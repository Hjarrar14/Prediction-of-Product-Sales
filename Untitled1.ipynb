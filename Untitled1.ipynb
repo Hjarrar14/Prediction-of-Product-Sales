{
  "nbformat": 4,
  "nbformat_minor": 0,
  "metadata": {
    "colab": {
      "provenance": [],
      "authorship_tag": "ABX9TyMvZ8NPc/lKlMitGJXp7Hw8",
      "include_colab_link": true
    },
    "kernelspec": {
      "name": "python3",
      "display_name": "Python 3"
    },
    "language_info": {
      "name": "python"
    }
  },
  "cells": [
    {
      "cell_type": "markdown",
      "metadata": {
        "id": "view-in-github",
        "colab_type": "text"
      },
      "source": [
        "<a href=\"https://colab.research.google.com/github/Hjarrar14/Prediction-of-Product-Sales/blob/main/Untitled1.ipynb\" target=\"_parent\"><img src=\"https://colab.research.google.com/assets/colab-badge.svg\" alt=\"Open In Colab\"/></a>"
      ]
    },
    {
      "cell_type": "markdown",
      "source": [
        "# Project Title: (Prediciton of Product Sales)."
      ],
      "metadata": {
        "id": "zD_n7Vao1Zqp"
      }
    },
    {
      "cell_type": "markdown",
      "source": [
        "- Author: Hisham Jarrar"
      ],
      "metadata": {
        "id": "vAeVvN7-1n3A"
      }
    },
    {
      "cell_type": "markdown",
      "source": [
        "##Project Overview"
      ],
      "metadata": {
        "id": "8eZDo5nN13P1"
      }
    },
    {
      "cell_type": "markdown",
      "source": [],
      "metadata": {
        "id": "qS_Rlyaa1_Rf"
      }
    },
    {
      "cell_type": "markdown",
      "source": [
        "##Load and Inspect Data"
      ],
      "metadata": {
        "id": "CRT2wnuU2AZH"
      }
    },
    {
      "cell_type": "code",
      "source": [],
      "metadata": {
        "id": "ikFbR3ac2ExC"
      },
      "execution_count": null,
      "outputs": []
    },
    {
      "cell_type": "markdown",
      "source": [
        "##Clean Data"
      ],
      "metadata": {
        "id": "BIGOfwuI2FLP"
      }
    },
    {
      "cell_type": "code",
      "source": [],
      "metadata": {
        "id": "hm6N30Q-2If1"
      },
      "execution_count": null,
      "outputs": []
    },
    {
      "cell_type": "markdown",
      "source": [
        "##Exploratory Data Analysis"
      ],
      "metadata": {
        "id": "xqRsvaHo2LbC"
      }
    },
    {
      "cell_type": "code",
      "source": [],
      "metadata": {
        "id": "AsXt373F2U8b"
      },
      "execution_count": null,
      "outputs": []
    },
    {
      "cell_type": "markdown",
      "source": [
        "##Feature Inspection"
      ],
      "metadata": {
        "id": "VRWWPDsN2eGB"
      }
    },
    {
      "cell_type": "code",
      "source": [],
      "metadata": {
        "id": "QFkDb7JM2k54"
      },
      "execution_count": null,
      "outputs": []
    }
  ]
}